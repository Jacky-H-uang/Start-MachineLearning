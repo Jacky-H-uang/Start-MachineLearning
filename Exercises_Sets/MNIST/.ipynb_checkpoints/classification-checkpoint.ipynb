{
 "cells": [
  {
   "cell_type": "markdown",
   "id": "fitting-cyprus",
   "metadata": {},
   "source": [
    "## MNIST 数据集的经典分类器算法"
   ]
  },
  {
   "cell_type": "code",
   "execution_count": 165,
   "id": "unavailable-mambo",
   "metadata": {},
   "outputs": [
    {
     "name": "stdout",
     "output_type": "stream",
     "text": [
      "(70000, 784)\n",
      "(70000,)\n"
     ]
    }
   ],
   "source": [
    "\"\"\"\n",
    "Classification of Machine Learning\n",
    "\"\"\"\n",
    "\n",
    "import scipy.io as scio\n",
    "import numpy as np\n",
    "import pandas as pd\n",
    "from sklearn.linear_model import SGDClassifier\n",
    "from sklearn.model_selection import StratifiedKFold\n",
    "from sklearn.base import clone\n",
    "from sklearn.model_selection import cross_val_score\n",
    "\n",
    "\n",
    "mnist = scio.loadmat('./datasets/mnist-original.mat')\n",
    "\n",
    "X , y = mnist['data'].transpose() , mnist['label'].transpose().ravel()\n",
    "\n",
    "print(X.shape)\n",
    "print(y.shape)"
   ]
  },
  {
   "cell_type": "code",
   "execution_count": 166,
   "id": "sought-brief",
   "metadata": {
    "scrolled": true
   },
   "outputs": [
    {
     "data": {
      "image/png": "[encoded data removed]",
      "text/plain": [
       "<Figure size 432x288 with 1 Axes>"
      ]
     },
     "metadata": {
      "needs_background": "light"
     },
     "output_type": "display_data"
    },
    {
     "data": {
      "text/plain": [
       "5.0"
      ]
     },
     "execution_count": 166,
     "metadata": {},
     "output_type": "execute_result"
    }
   ],
   "source": [
    "\"\"\"\n",
    "共有 7 万张图片 , 每张图片有 784 个特征。图片是 28 * 28 的像素\n",
    "每个特征代表一个像素点的强度  0(white) - 255(black)\n",
    "\"\"\"\n",
    "%matplotlib inline\n",
    "import matplotlib.pyplot as plt\n",
    "import matplotlib\n",
    "\n",
    "some_digit = X[36000]\n",
    "some_digit_image = some_digit.reshape(28,28)\n",
    "\n",
    "plt.imshow(some_digit_image , cmap = matplotlib.cm.binary , interpolation = 'nearest')\n",
    "plt.axis('off')\n",
    "plt.show()\n",
    "\n",
    "y[36000]"
   ]
  },
  {
   "cell_type": "code",
   "execution_count": 167,
   "id": "decent-olive",
   "metadata": {},
   "outputs": [
    {
     "name": "stdout",
     "output_type": "stream",
     "text": [
      "[[0 0 0 ... 0 0 0]\n",
      " [0 0 0 ... 0 0 0]\n",
      " [0 0 0 ... 0 0 0]\n",
      " ...\n",
      " [0 0 0 ... 0 0 0]\n",
      " [0 0 0 ... 0 0 0]\n",
      " [0 0 0 ... 0 0 0]]\n",
      "[9. 8. 3. ... 3. 1. 8.]\n"
     ]
    }
   ],
   "source": [
    "\"\"\"\n",
    "取前 6w 张图片来作训练的数据 ， 后面的数据来作为测试集\n",
    "\"\"\"\n",
    "\n",
    "X_train , X_test , y_train , y_test = X[:60000] , X[60000:] , y[:60000] , y[60000:]\n",
    "\n",
    "# 打乱训练集合的数据 permutation 是具有返回值的\n",
    "shuffle_index = np.random.permutation(60000)\n",
    "X_train , y_train = X_train[shuffle_index] , y_train[shuffle_index]\n",
    "\n",
    "print(X_train)\n",
    "print(y_train)"
   ]
  },
  {
   "cell_type": "code",
   "execution_count": 168,
   "id": "modified-scotland",
   "metadata": {},
   "outputs": [
    {
     "data": {
      "text/plain": [
       "array([ True])"
      ]
     },
     "execution_count": 168,
     "metadata": {},
     "output_type": "execute_result"
    }
   ],
   "source": [
    "\"\"\"\n",
    "训练一个二元的分类器\n",
    "\"\"\"\n",
    "\n",
    "y_train_5 = (y_train == 5)\n",
    "y_test_5 = (y_test == 5)\n",
    "\n",
    "sgd_clf = SGDClassifier(random_state = 42)\n",
    "sgd_clf.fit(X_train , y_train_5)\n",
    "sgd_clf.predict([some_digit])"
   ]
  },
  {
   "cell_type": "code",
   "execution_count": 169,
   "id": "medical-insulin",
   "metadata": {},
   "outputs": [
    {
     "name": "stdout",
     "output_type": "stream",
     "text": [
      "0.96125\n",
      "0.9694\n",
      "0.96365\n"
     ]
    }
   ],
   "source": [
    "\"\"\"\n",
    "使用交叉验证测试精度\n",
    "\"\"\"\n",
    "\n",
    "# StratifielKFold 执行分成抽样\n",
    "skfolds = StratifiedKFold(n_splits = 3 , random_state = 42 , shuffle = True)\n",
    "\n",
    "# 分三层来进行抽样然后来计算出正确率\n",
    "for train_index , test_index in skfolds.split(X_train , y_train_5):\n",
    "    clone_clf = clone(sgd_clf)\n",
    "    X_train_folds = X_train[train_index]\n",
    "    y_train_folds = y_train_5[train_index]\n",
    "    X_test_folds = X_train[test_index]\n",
    "    y_test_folds = y_train_5[test_index]\n",
    "    \n",
    "    clone_clf.fit(X_train_folds , y_train_folds)\n",
    "    y_pred = clone_clf.predict(X_test_folds)\n",
    "    n_correct = sum(y_pred == y_test_folds)\n",
    "    print(n_correct / len(y_test_folds))"
   ]
  },
  {
   "cell_type": "code",
   "execution_count": 170,
   "id": "cultural-princess",
   "metadata": {},
   "outputs": [
    {
     "data": {
      "text/plain": [
       "array([0.9573 , 0.9628 , 0.95575])"
      ]
     },
     "execution_count": 170,
     "metadata": {},
     "output_type": "execute_result"
    }
   ],
   "source": [
    "\"\"\"\n",
    "使用 cross_val_score() 函数来评估 SGDClassifier 模型 采用 K-fold 交叉验证法 ， 3个折叠\n",
    "\"\"\"\n",
    "\n",
    "from sklearn.model_selection import cross_val_score\n",
    "\n",
    "cross_val_score(sgd_clf , X_train , y_train_5 , cv = 3 , scoring = \"accuracy\")"
   ]
  },
  {
   "cell_type": "code",
   "execution_count": 95,
   "id": "suited-hanging",
   "metadata": {},
   "outputs": [
    {
     "data": {
      "text/plain": [
       "array([0.91035, 0.90785, 0.91075])"
      ]
     },
     "execution_count": 95,
     "metadata": {},
     "output_type": "execute_result"
    }
   ],
   "source": [
    "\"\"\"\n",
    "尝试写一个分类器将每张图分类成 非 '5'\n",
    "\"\"\"\n",
    "\n",
    "\n",
    "from sklearn.base import BaseEstimator\n",
    "\n",
    "class Never5Classifier(BaseEstimator):\n",
    "    def fit(self , X , y = None):\n",
    "        pass\n",
    "    def predict(self , X):\n",
    "        return np.zeros((len(X) , 1) , dtype = bool)\n",
    "\n",
    "never_5_clf = Never5Classifier()\n",
    "cross_val_score(never_5_clf , X_train , y_train_5 , cv = 3 , scoring = \"accuracy\")    # 若正确率很高只能说明数据集中的 5 的数量非常的少"
   ]
  },
  {
   "cell_type": "code",
   "execution_count": 96,
   "id": "complete-smile",
   "metadata": {},
   "outputs": [
    {
     "data": {
      "text/plain": [
       "array([False, False, False, ..., False, False, False])"
      ]
     },
     "execution_count": 96,
     "metadata": {},
     "output_type": "execute_result"
    }
   ],
   "source": [
    "\"\"\"\n",
    "评估分类器性能的最好方法：采取混淆矩阵的方法\n",
    "    思路：统计 A 类别实例被分成为 B 类别的次数\n",
    "    \n",
    "    要计算混淆矩阵需要先有一组预测才能将其与实际目标进行比较。\n",
    "\"\"\"\n",
    "\n",
    "from sklearn.model_selection import cross_val_predict\n",
    "\n",
    "# cross_val_predict() 函数同样执行 K-fold 交叉的验证但是返回的不是评估分数而是每个折叠的预测\n",
    "y_train_pred = cross_val_predict(sgd_clf , X_train , y_train_5 , cv = 3)\n",
    "y_train_pred"
   ]
  },
  {
   "cell_type": "code",
   "execution_count": 99,
   "id": "capable-nation",
   "metadata": {
    "scrolled": false
   },
   "outputs": [
    {
     "data": {
      "text/plain": [
       "array([[53943,   636],\n",
       "       [ 2026,  3395]], dtype=int64)"
      ]
     },
     "execution_count": 99,
     "metadata": {},
     "output_type": "execute_result"
    }
   ],
   "source": [
    "\"\"\"\n",
    "confusion_matrix() 函数来获取混淆矩阵\n",
    "混淆矩阵的行表示实际类型  列表示预测类型\n",
    "\"\"\"\n",
    "\n",
    "from sklearn.metrics import confusion_matrix\n",
    "confusion_matrix(y_train_5 , y_train_pred)\n",
    "\n",
    "# 如下的预测结果可以说明：\n",
    "#         53943 张被正确地分为 非'5' 类型    636 张被错误的分为 '5' 类型\n",
    "#         2026  张被错误的分为 非'5' 类型    3395 张被正确的分为 '5' 类型\n",
    "#     \n",
    "#                  预测\n",
    "#              非5      5\n",
    "#  实  非5    53943     636\n",
    "#  际   5     2026     3395"
   ]
  },
  {
   "cell_type": "code",
   "execution_count": 102,
   "id": "rotary-inspiration",
   "metadata": {},
   "outputs": [
    {
     "name": "stdout",
     "output_type": "stream",
     "text": [
      "精度 :  0.8422227735053337\n",
      "召回率 :  0.6262682161962737\n"
     ]
    }
   ],
   "source": [
    "\"\"\"\n",
    "正类预测的准确率指标：精度公式 (正类预测的准确率)\n",
    "        精度 = TP / （TP + FP） --- \"相当于 TP + FP 中预测对了 TP 个\"\n",
    "        TP : 真正类的数量\n",
    "        FP : 假正类的数量\n",
    "精度通常与另一个指标一起使用 , 这个指标是召回率 (分类器正确检测到的正类实例的比率) \n",
    "        召回率 = TP / (TP + FN)\n",
    "        FN : 假负类的数量       --- \"相当于 TP + FN 中找出了 TP 个\"\n",
    "\"\"\"\n",
    "\n",
    "from sklearn.metrics import precision_score , recall_score\n",
    "\n",
    "print(\"精度 : \" ,precision_score(y_train_5 , y_train_pred))\n",
    "print(\"召回率 : \" , recall_score(y_train_5 , y_train_pred))"
   ]
  },
  {
   "cell_type": "code",
   "execution_count": 114,
   "id": "working-columbia",
   "metadata": {},
   "outputs": [
    {
     "data": {
      "text/plain": [
       "0.718366483283961"
      ]
     },
     "execution_count": 114,
     "metadata": {},
     "output_type": "execute_result"
    }
   ],
   "source": [
    "\"\"\"\n",
    "将精度和召回率组合成一个单一的指标 称为 F1 分数\n",
    "F1 分数是精度和召回率的谐波平均值，正常的平均值平等对待所有的值 , 而谐波平均值会给予较低的值更高的权重。\n",
    "因此只有当精度和召回率都高的时候，分类器才能得到较高的 F1 分数。\n",
    "                   2\n",
    "公式： F1 = -----------------\n",
    "             1          1\n",
    "            ----   +  ------\n",
    "            精度      召回率\n",
    "\n",
    "计算 F1 分数只需调用 f1_score() 函数即可\n",
    "\"\"\"\n",
    "\n",
    "from sklearn.metrics import f1_score\n",
    "f1_score(y_train_5 , y_train_pred)"
   ]
  },
  {
   "cell_type": "code",
   "execution_count": 155,
   "id": "assisted-fancy",
   "metadata": {},
   "outputs": [
    {
     "name": "stdout",
     "output_type": "stream",
     "text": [
      "[649.98922881]\n"
     ]
    },
    {
     "data": {
      "image/png": "[encoded data removed]",
      "text/plain": [
       "<Figure size 432x288 with 1 Axes>"
      ]
     },
     "metadata": {
      "needs_background": "light"
     },
     "output_type": "display_data"
    }
   ],
   "source": [
    "\"\"\"\n",
    "精度 / 召回率 权衡\n",
    "\n",
    "Scikit-Learn 不允许直接设置阈值 , 但是可以访问它用于预测的决策分数。\n",
    "不是调用 predict() 方法，而是调用 decision_function() 方法，这个方法返回每个实例的分数，\n",
    "然后就可以根据这些分数，实现任意阈值的预测\n",
    "\"\"\"\n",
    "\n",
    "y_scores = sgd_clf.decision_function([some_digit])\n",
    "print(y_scores)\n",
    "threshold = 0\n",
    "y_some_digit_pred = (y_scores > threshold)\n",
    "\n",
    "\n",
    "\n",
    "y_scores = cross_val_predict(sgd_clf , X_train , y_train_5 , cv = 3 , method = \"decision_function\")\n",
    "\n",
    "from sklearn.metrics import precision_recall_curve\n",
    "# 使用 precision_call_curve() 函数来计算所有可能的阈值的精度和召回率\n",
    "precisions , recalls , thresholds = precision_recall_curve(y_train_5 , y_scores)\n",
    "\n",
    "def plot_precision_recall_vs_threshold(precisions , recalls , thresholds):\n",
    "    plt.plot(thresholds , precisions[:-1] , \"b--\" , label = \"Precision\")\n",
    "    plt.plot(thresholds , recalls[:-1] , \"g-\" , label = \"Recall\")\n",
    "    plt.xlabel(\"Thresholds\")\n",
    "    plt.legend(loc = \"upper left\")\n",
    "    plt.ylim([0,1])\n",
    "\n",
    "plot_precision_recall_vs_threshold(precisions , recalls , thresholds)\n",
    "plt.show()"
   ]
  },
  {
   "cell_type": "code",
   "execution_count": 159,
   "id": "studied-argument",
   "metadata": {},
   "outputs": [
    {
     "data": {
      "image/png": "[encoded data removed]",
      "text/plain": [
       "<Figure size 432x288 with 1 Axes>"
      ]
     },
     "metadata": {
      "needs_background": "light"
     },
     "output_type": "display_data"
    }
   ],
   "source": [
    "\"\"\"\n",
    "Roc 曲线绘制的是真正类率(召回率的另一个名称) ， 和假正类率(FPR)。\n",
    "    FPR 是被错误分为正类的负类的比列 等于 ：1 - 真负类率(TNR : 被正确分类为负类的负类实例比率也称为特异度)\n",
    "    所以 Roc 曲线绘制的是 灵敏度 和 1 - 特异度 的关系\n",
    "\"\"\"\n",
    "\n",
    "from sklearn.metrics import roc_curve\n",
    "\n",
    "fpr , tpr , thresholds = roc_curve(y_train_5 , y_scores)\n",
    "\n",
    "def plot_roc_curve(fpr , tpr , label = None):\n",
    "    plt.plot(fpr , tpr , linewidth = 2 , label = label)\n",
    "    plt.plot([0,1] , [0,1] , 'k--')\n",
    "    plt.axis([0 , 1 , 0 , 1])\n",
    "    plt.xlabel('False Positive Rate')\n",
    "    plt.ylabel('True Posivitive Rate')\n",
    "\n",
    "plot_roc_curve(fpr, tpr)\n",
    "plt.show()"
   ]
  }
 ],
 "metadata": {
  "kernelspec": {
   "display_name": "Python 3",
   "language": "python",
   "name": "python3"
  },
  "language_info": {
   "codemirror_mode": {
    "name": "ipython",
    "version": 3
   },
   "file_extension": ".py",
   "mimetype": "text/x-python",
   "name": "python",
   "nbconvert_exporter": "python",
   "pygments_lexer": "ipython3",
   "version": "3.6.5"
  }
 },
 "nbformat": 4,
 "nbformat_minor": 5
}
