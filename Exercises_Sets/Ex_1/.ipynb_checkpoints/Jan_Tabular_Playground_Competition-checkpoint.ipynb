{
 "cells": [
  {
   "cell_type": "markdown",
   "metadata": {
    "collapsed": true,
    "pycharm": {
     "name": "#%% md\n"
    }
   },
   "source": [
    "<script type=\"text/javascript\" src=\"http://cdn.mathjax.org/mathjax/latest/MathJax.js?config=default\"></script>\n",
    "## Task requirements\n",
    "1. About this Competition:\n",
    "    For this competition, you will be predicting a continuous target based on a number of feature columns given in the data.\n",
    "    All of the feature columns, cont1 - cont9 are continuous.\n",
    "2. Files:\n",
    "    - train.csv - the training data with the target column\n",
    "    - test.csv - the test set; you will be predicting the target for each row in this file\n",
    "    - sample_submission.csv - a sample submission file in the correct format\n",
    "3. Evalution:\n",
    "    Submissions are scored on the root mean squared error. RMSE is defined as:\n",
    "    $$ RMSE = \\sqrt{\\frac{1}{n}\\sum_{i=1}^n (h(x^i)−y^i)^2} $$\n",
    "\n",
    "    where $\\hat{y}$ is the predicted value, y is the original value, and n is the number of rows in the test data.\n",
    "\n",
    "    Submission File\n",
    "    For each row in the test set, you must predict the value of six target outcomes as described on the data tab,\n",
    "    each on a separate row in the submission file. The file should contain a header and have the following format:\n",
    "\n",
    "    id,target\n",
    "    \n",
    "    0,0.5\n",
    "    \n",
    "    2,10.2\n",
    "    \n",
    "    6,2.2\n",
    "    \n",
    "    etc.\n",
    "    "
   ]
  },
  {
   "cell_type": "code",
   "execution_count": 31,
   "metadata": {
    "pycharm": {
     "name": "#%%\n"
    }
   },
   "outputs": [
    {
     "data": {
      "text/html": [
       "<div>\n",
       "<style scoped>\n",
       "    .dataframe tbody tr th:only-of-type {\n",
       "        vertical-align: middle;\n",
       "    }\n",
       "\n",
       "    .dataframe tbody tr th {\n",
       "        vertical-align: top;\n",
       "    }\n",
       "\n",
       "    .dataframe thead th {\n",
       "        text-align: right;\n",
       "    }\n",
       "</style>\n",
       "<table border=\"1\" class=\"dataframe\">\n",
       "  <thead>\n",
       "    <tr style=\"text-align: right;\">\n",
       "      <th></th>\n",
       "      <th>cont1</th>\n",
       "      <th>cont2</th>\n",
       "      <th>cont3</th>\n",
       "      <th>cont4</th>\n",
       "      <th>cont5</th>\n",
       "      <th>cont6</th>\n",
       "      <th>cont7</th>\n",
       "      <th>cont8</th>\n",
       "      <th>cont9</th>\n",
       "      <th>cont10</th>\n",
       "      <th>cont11</th>\n",
       "      <th>cont12</th>\n",
       "      <th>cont13</th>\n",
       "      <th>cont14</th>\n",
       "      <th>target</th>\n",
       "    </tr>\n",
       "    <tr>\n",
       "      <th>id</th>\n",
       "      <th></th>\n",
       "      <th></th>\n",
       "      <th></th>\n",
       "      <th></th>\n",
       "      <th></th>\n",
       "      <th></th>\n",
       "      <th></th>\n",
       "      <th></th>\n",
       "      <th></th>\n",
       "      <th></th>\n",
       "      <th></th>\n",
       "      <th></th>\n",
       "      <th></th>\n",
       "      <th></th>\n",
       "      <th></th>\n",
       "    </tr>\n",
       "  </thead>\n",
       "  <tbody>\n",
       "    <tr>\n",
       "      <th>1</th>\n",
       "      <td>0.670390</td>\n",
       "      <td>0.811300</td>\n",
       "      <td>0.643968</td>\n",
       "      <td>0.291791</td>\n",
       "      <td>0.284117</td>\n",
       "      <td>0.855953</td>\n",
       "      <td>0.890700</td>\n",
       "      <td>0.285542</td>\n",
       "      <td>0.558245</td>\n",
       "      <td>0.779418</td>\n",
       "      <td>0.921832</td>\n",
       "      <td>0.866772</td>\n",
       "      <td>0.878733</td>\n",
       "      <td>0.305411</td>\n",
       "      <td>7.243043</td>\n",
       "    </tr>\n",
       "    <tr>\n",
       "      <th>3</th>\n",
       "      <td>0.388053</td>\n",
       "      <td>0.621104</td>\n",
       "      <td>0.686102</td>\n",
       "      <td>0.501149</td>\n",
       "      <td>0.643790</td>\n",
       "      <td>0.449805</td>\n",
       "      <td>0.510824</td>\n",
       "      <td>0.580748</td>\n",
       "      <td>0.418335</td>\n",
       "      <td>0.432632</td>\n",
       "      <td>0.439872</td>\n",
       "      <td>0.434971</td>\n",
       "      <td>0.369957</td>\n",
       "      <td>0.369484</td>\n",
       "      <td>8.203331</td>\n",
       "    </tr>\n",
       "    <tr>\n",
       "      <th>4</th>\n",
       "      <td>0.834950</td>\n",
       "      <td>0.227436</td>\n",
       "      <td>0.301584</td>\n",
       "      <td>0.293408</td>\n",
       "      <td>0.606839</td>\n",
       "      <td>0.829175</td>\n",
       "      <td>0.506143</td>\n",
       "      <td>0.558771</td>\n",
       "      <td>0.587603</td>\n",
       "      <td>0.823312</td>\n",
       "      <td>0.567007</td>\n",
       "      <td>0.677708</td>\n",
       "      <td>0.882938</td>\n",
       "      <td>0.303047</td>\n",
       "      <td>7.776091</td>\n",
       "    </tr>\n",
       "    <tr>\n",
       "      <th>5</th>\n",
       "      <td>0.820708</td>\n",
       "      <td>0.160155</td>\n",
       "      <td>0.546887</td>\n",
       "      <td>0.726104</td>\n",
       "      <td>0.282444</td>\n",
       "      <td>0.785108</td>\n",
       "      <td>0.752758</td>\n",
       "      <td>0.823267</td>\n",
       "      <td>0.574466</td>\n",
       "      <td>0.580843</td>\n",
       "      <td>0.769594</td>\n",
       "      <td>0.818143</td>\n",
       "      <td>0.914281</td>\n",
       "      <td>0.279528</td>\n",
       "      <td>6.957716</td>\n",
       "    </tr>\n",
       "    <tr>\n",
       "      <th>8</th>\n",
       "      <td>0.935278</td>\n",
       "      <td>0.421235</td>\n",
       "      <td>0.303801</td>\n",
       "      <td>0.880214</td>\n",
       "      <td>0.665610</td>\n",
       "      <td>0.830131</td>\n",
       "      <td>0.487113</td>\n",
       "      <td>0.604157</td>\n",
       "      <td>0.874658</td>\n",
       "      <td>0.863427</td>\n",
       "      <td>0.983575</td>\n",
       "      <td>0.900464</td>\n",
       "      <td>0.935918</td>\n",
       "      <td>0.435772</td>\n",
       "      <td>7.951046</td>\n",
       "    </tr>\n",
       "  </tbody>\n",
       "</table>\n",
       "</div>"
      ],
      "text/plain": [
       "       cont1     cont2     cont3     cont4     cont5     cont6     cont7  \\\n",
       "id                                                                         \n",
       "1   0.670390  0.811300  0.643968  0.291791  0.284117  0.855953  0.890700   \n",
       "3   0.388053  0.621104  0.686102  0.501149  0.643790  0.449805  0.510824   \n",
       "4   0.834950  0.227436  0.301584  0.293408  0.606839  0.829175  0.506143   \n",
       "5   0.820708  0.160155  0.546887  0.726104  0.282444  0.785108  0.752758   \n",
       "8   0.935278  0.421235  0.303801  0.880214  0.665610  0.830131  0.487113   \n",
       "\n",
       "       cont8     cont9    cont10    cont11    cont12    cont13    cont14  \\\n",
       "id                                                                         \n",
       "1   0.285542  0.558245  0.779418  0.921832  0.866772  0.878733  0.305411   \n",
       "3   0.580748  0.418335  0.432632  0.439872  0.434971  0.369957  0.369484   \n",
       "4   0.558771  0.587603  0.823312  0.567007  0.677708  0.882938  0.303047   \n",
       "5   0.823267  0.574466  0.580843  0.769594  0.818143  0.914281  0.279528   \n",
       "8   0.604157  0.874658  0.863427  0.983575  0.900464  0.935918  0.435772   \n",
       "\n",
       "      target  \n",
       "id            \n",
       "1   7.243043  \n",
       "3   8.203331  \n",
       "4   7.776091  \n",
       "5   6.957716  \n",
       "8   7.951046  "
      ]
     },
     "metadata": {},
     "output_type": "display_data"
    }
   ],
   "source": [
    "import pandas as pd\n",
    "import numpy as np\n",
    "from sklearn.model_selection import train_test_split\n",
    "from sklearn import *\n",
    "from sklearn.linear_model import *\n",
    "from sklearn.metrics import mean_squared_error\n",
    "from sklearn.metrics import *\n",
    "from sklearn.linear_model import Lasso\n",
    "from sklearn.ensemble import RandomForestRegressor\n",
    "from sklearn.dummy import DummyRegressor\n",
    "import matplotlib.pyplot as plt\n",
    "\n",
    "# read train data files\n",
    "train = pd.read_csv('train.csv' , index_col = 'id')\n",
    "display(train.head())"
   ]
  },
  {
   "cell_type": "code",
   "execution_count": 32,
   "metadata": {},
   "outputs": [
    {
     "data": {
      "text/html": [
       "<div>\n",
       "<style scoped>\n",
       "    .dataframe tbody tr th:only-of-type {\n",
       "        vertical-align: middle;\n",
       "    }\n",
       "\n",
       "    .dataframe tbody tr th {\n",
       "        vertical-align: top;\n",
       "    }\n",
       "\n",
       "    .dataframe thead th {\n",
       "        text-align: right;\n",
       "    }\n",
       "</style>\n",
       "<table border=\"1\" class=\"dataframe\">\n",
       "  <thead>\n",
       "    <tr style=\"text-align: right;\">\n",
       "      <th></th>\n",
       "      <th>cont1</th>\n",
       "      <th>cont2</th>\n",
       "      <th>cont3</th>\n",
       "      <th>cont4</th>\n",
       "      <th>cont5</th>\n",
       "      <th>cont6</th>\n",
       "      <th>cont7</th>\n",
       "      <th>cont8</th>\n",
       "      <th>cont9</th>\n",
       "      <th>cont10</th>\n",
       "      <th>cont11</th>\n",
       "      <th>cont12</th>\n",
       "      <th>cont13</th>\n",
       "      <th>cont14</th>\n",
       "    </tr>\n",
       "    <tr>\n",
       "      <th>id</th>\n",
       "      <th></th>\n",
       "      <th></th>\n",
       "      <th></th>\n",
       "      <th></th>\n",
       "      <th></th>\n",
       "      <th></th>\n",
       "      <th></th>\n",
       "      <th></th>\n",
       "      <th></th>\n",
       "      <th></th>\n",
       "      <th></th>\n",
       "      <th></th>\n",
       "      <th></th>\n",
       "      <th></th>\n",
       "    </tr>\n",
       "  </thead>\n",
       "  <tbody>\n",
       "    <tr>\n",
       "      <th>0</th>\n",
       "      <td>0.353600</td>\n",
       "      <td>0.738780</td>\n",
       "      <td>0.600939</td>\n",
       "      <td>0.293377</td>\n",
       "      <td>0.285691</td>\n",
       "      <td>0.458006</td>\n",
       "      <td>0.620704</td>\n",
       "      <td>0.422249</td>\n",
       "      <td>0.369203</td>\n",
       "      <td>0.435727</td>\n",
       "      <td>0.550540</td>\n",
       "      <td>0.699134</td>\n",
       "      <td>0.286864</td>\n",
       "      <td>0.364515</td>\n",
       "    </tr>\n",
       "    <tr>\n",
       "      <th>2</th>\n",
       "      <td>0.907222</td>\n",
       "      <td>0.189756</td>\n",
       "      <td>0.215531</td>\n",
       "      <td>0.869915</td>\n",
       "      <td>0.301333</td>\n",
       "      <td>0.528958</td>\n",
       "      <td>0.390351</td>\n",
       "      <td>0.521112</td>\n",
       "      <td>0.794779</td>\n",
       "      <td>0.798580</td>\n",
       "      <td>0.446475</td>\n",
       "      <td>0.449037</td>\n",
       "      <td>0.916964</td>\n",
       "      <td>0.513002</td>\n",
       "    </tr>\n",
       "    <tr>\n",
       "      <th>6</th>\n",
       "      <td>0.179287</td>\n",
       "      <td>0.355353</td>\n",
       "      <td>0.623972</td>\n",
       "      <td>0.437812</td>\n",
       "      <td>0.282476</td>\n",
       "      <td>0.320826</td>\n",
       "      <td>0.386789</td>\n",
       "      <td>0.776422</td>\n",
       "      <td>0.222268</td>\n",
       "      <td>0.229102</td>\n",
       "      <td>0.211913</td>\n",
       "      <td>0.222651</td>\n",
       "      <td>0.327164</td>\n",
       "      <td>0.827941</td>\n",
       "    </tr>\n",
       "    <tr>\n",
       "      <th>7</th>\n",
       "      <td>0.359385</td>\n",
       "      <td>0.181049</td>\n",
       "      <td>0.551368</td>\n",
       "      <td>0.206386</td>\n",
       "      <td>0.280763</td>\n",
       "      <td>0.482076</td>\n",
       "      <td>0.506677</td>\n",
       "      <td>0.362793</td>\n",
       "      <td>0.379737</td>\n",
       "      <td>0.345686</td>\n",
       "      <td>0.445276</td>\n",
       "      <td>0.518485</td>\n",
       "      <td>0.299028</td>\n",
       "      <td>0.598166</td>\n",
       "    </tr>\n",
       "    <tr>\n",
       "      <th>10</th>\n",
       "      <td>0.335791</td>\n",
       "      <td>0.682607</td>\n",
       "      <td>0.676481</td>\n",
       "      <td>0.219465</td>\n",
       "      <td>0.282861</td>\n",
       "      <td>0.581721</td>\n",
       "      <td>0.748639</td>\n",
       "      <td>0.350158</td>\n",
       "      <td>0.448915</td>\n",
       "      <td>0.506878</td>\n",
       "      <td>0.817721</td>\n",
       "      <td>0.805895</td>\n",
       "      <td>0.790591</td>\n",
       "      <td>0.249275</td>\n",
       "    </tr>\n",
       "  </tbody>\n",
       "</table>\n",
       "</div>"
      ],
      "text/plain": [
       "       cont1     cont2     cont3     cont4     cont5     cont6     cont7  \\\n",
       "id                                                                         \n",
       "0   0.353600  0.738780  0.600939  0.293377  0.285691  0.458006  0.620704   \n",
       "2   0.907222  0.189756  0.215531  0.869915  0.301333  0.528958  0.390351   \n",
       "6   0.179287  0.355353  0.623972  0.437812  0.282476  0.320826  0.386789   \n",
       "7   0.359385  0.181049  0.551368  0.206386  0.280763  0.482076  0.506677   \n",
       "10  0.335791  0.682607  0.676481  0.219465  0.282861  0.581721  0.748639   \n",
       "\n",
       "       cont8     cont9    cont10    cont11    cont12    cont13    cont14  \n",
       "id                                                                        \n",
       "0   0.422249  0.369203  0.435727  0.550540  0.699134  0.286864  0.364515  \n",
       "2   0.521112  0.794779  0.798580  0.446475  0.449037  0.916964  0.513002  \n",
       "6   0.776422  0.222268  0.229102  0.211913  0.222651  0.327164  0.827941  \n",
       "7   0.362793  0.379737  0.345686  0.445276  0.518485  0.299028  0.598166  \n",
       "10  0.350158  0.448915  0.506878  0.817721  0.805895  0.790591  0.249275  "
      ]
     },
     "metadata": {},
     "output_type": "display_data"
    }
   ],
   "source": [
    "# read test data files\n",
    "test = pd.read_csv('test.csv' , index_col = 'id')\n",
    "display(test.head())"
   ]
  },
  {
   "cell_type": "code",
   "execution_count": 33,
   "metadata": {},
   "outputs": [
    {
     "data": {
      "text/html": [
       "<div>\n",
       "<style scoped>\n",
       "    .dataframe tbody tr th:only-of-type {\n",
       "        vertical-align: middle;\n",
       "    }\n",
       "\n",
       "    .dataframe tbody tr th {\n",
       "        vertical-align: top;\n",
       "    }\n",
       "\n",
       "    .dataframe thead th {\n",
       "        text-align: right;\n",
       "    }\n",
       "</style>\n",
       "<table border=\"1\" class=\"dataframe\">\n",
       "  <thead>\n",
       "    <tr style=\"text-align: right;\">\n",
       "      <th></th>\n",
       "      <th>target</th>\n",
       "    </tr>\n",
       "    <tr>\n",
       "      <th>id</th>\n",
       "      <th></th>\n",
       "    </tr>\n",
       "  </thead>\n",
       "  <tbody>\n",
       "    <tr>\n",
       "      <th>0</th>\n",
       "      <td>0.5</td>\n",
       "    </tr>\n",
       "    <tr>\n",
       "      <th>2</th>\n",
       "      <td>0.5</td>\n",
       "    </tr>\n",
       "    <tr>\n",
       "      <th>6</th>\n",
       "      <td>0.5</td>\n",
       "    </tr>\n",
       "    <tr>\n",
       "      <th>7</th>\n",
       "      <td>0.5</td>\n",
       "    </tr>\n",
       "    <tr>\n",
       "      <th>10</th>\n",
       "      <td>0.5</td>\n",
       "    </tr>\n",
       "  </tbody>\n",
       "</table>\n",
       "</div>"
      ],
      "text/plain": [
       "    target\n",
       "id        \n",
       "0      0.5\n",
       "2      0.5\n",
       "6      0.5\n",
       "7      0.5\n",
       "10     0.5"
      ]
     },
     "metadata": {},
     "output_type": "display_data"
    }
   ],
   "source": [
    "# read submission data files\n",
    "submission = pd.read_csv('sample_submission.csv' , index_col = 'id')\n",
    "display(submission.head())"
   ]
  },
  {
   "cell_type": "code",
   "execution_count": 34,
   "metadata": {},
   "outputs": [
    {
     "data": {
      "text/plain": [
       "id\n",
       "1    7.243043\n",
       "3    8.203331\n",
       "4    7.776091\n",
       "5    6.957716\n",
       "8    7.951046\n",
       "Name: target, dtype: float64"
      ]
     },
     "metadata": {},
     "output_type": "display_data"
    }
   ],
   "source": [
    "# pull the target and make a validation split\n",
    "target = train.pop('target')\n",
    "# train 的 60% 用来训练算法\n",
    "X_train , X_test , y_train , y_test = train_test_split(train , target , train_size = 0.60)\n",
    "display(target.head())"
   ]
  },
  {
   "cell_type": "code",
   "execution_count": 35,
   "metadata": {},
   "outputs": [
    {
     "name": "stdout",
     "output_type": "stream",
     "text": [
      "0.73342\n"
     ]
    }
   ],
   "source": [
    "model_dummy = DummyRegressor(strategy = 'median')\n",
    "model_dummy.fit(X_train , y_train)\n",
    "y_dummy = model_dummy.predict(X_test)\n",
    "score_dummy = mean_squared_error(y_test , y_dummy , squared = False)\n",
    "score_dummy\n",
    "print(f'{score_dummy:0.5f}')"
   ]
  },
  {
   "cell_type": "code",
   "execution_count": 36,
   "metadata": {},
   "outputs": [
    {
     "name": "stdout",
     "output_type": "stream",
     "text": [
      "1.33078\n"
     ]
    }
   ],
   "source": [
    "# Linear-Regression Model\n",
    "model_simple_linear = LinearRegression(fit_intercept = False)\n",
    "model_simple_linear.fit(X_train , y_train)\n",
    "y_simple_linear = model_simple_linear.predict(X_test)\n",
    "score_simple_linear = mean_squared_error(y_test , y_simple_linear , squared = False)\n",
    "print(f'{score_simple_linear:0.5f}')"
   ]
  },
  {
   "cell_type": "code",
   "execution_count": 37,
   "metadata": {},
   "outputs": [],
   "source": [
    "# Visulization Function\n",
    "def plot_results(name , y , yhat , num_to_plot = 10000 , lims = (0,12) , figsize = (6,6)):\n",
    "    plt.figure(figsize = figsize)\n",
    "    score = mean_squared_error(y , yhat ,squared = False)\n",
    "    plt.scatter(y[:num_to_plot] , yhat[:num_to_plot])\n",
    "    plt.plot(lims , lims)\n",
    "    plt.ylim(lims)\n",
    "    plt.xlim(lims)\n",
    "    plt.title(f'{name} : {score:0.5f}' , fontsize = 18)\n",
    "    plt.show()"
   ]
  },
  {
   "cell_type": "code",
   "execution_count": 39,
   "metadata": {},
   "outputs": [
    {
     "data": {
      "image/png": "[encoded data removed]",
      "text/plain": [
       "<Figure size 432x432 with 1 Axes>"
      ]
     },
     "metadata": {
      "needs_background": "light"
     },
     "output_type": "display_data"
    },
    {
     "data": {
      "image/png": "[encoded data removed]",
      "text/plain": [
       "<Figure size 432x432 with 1 Axes>"
      ]
     },
     "metadata": {
      "needs_background": "light"
     },
     "output_type": "display_data"
    },
    {
     "data": {
      "image/png": "[encoded data removed]",
      "text/plain": [
       "<Figure size 432x432 with 1 Axes>"
      ]
     },
     "metadata": {
      "needs_background": "light"
     },
     "output_type": "display_data"
    },
    {
     "data": {
      "image/png": "[encoded data removed]",
      "text/plain": [
       "<Figure size 432x432 with 1 Axes>"
      ]
     },
     "metadata": {
      "needs_background": "light"
     },
     "output_type": "display_data"
    }
   ],
   "source": [
    "# Building some models\n",
    "model_names = [\"Dummy Median\", \"Linear\" ,'Lasso', \"Random Forest\"]\n",
    "\n",
    "models = [\n",
    "    DummyRegressor(strategy = 'median'),\n",
    "    LinearRegression(fit_intercept = False),\n",
    "    Lasso(fit_intercept = False),\n",
    "    RandomForestRegressor(n_estimators = 50, n_jobs = -1)\n",
    "]\n",
    "\n",
    "for name, model in zip(model_names, models):\n",
    "    model.fit(X_train, y_train)\n",
    "    y_pred = model.predict(X_test)\n",
    "    plot_results(name, y_test, y_pred)"
   ]
  },
  {
   "cell_type": "code",
   "execution_count": null,
   "metadata": {},
   "outputs": [],
   "source": [
    "# Choose the best model to test\n",
    "model = RandomForestRegressor(n_estimators = 50, n_jobs = -1)\n",
    "model.fit(train, target)\n",
    "submission['target'] = model.predict(test)\n",
    "submission.to_csv('random_forest.csv')"
   ]
  }
 ],
 "metadata": {
  "kernelspec": {
   "display_name": "Python 3",
   "language": "python",
   "name": "python3"
  },
  "language_info": {
   "codemirror_mode": {
    "name": "ipython",
    "version": 3
   },
   "file_extension": ".py",
   "mimetype": "text/x-python",
   "name": "python",
   "nbconvert_exporter": "python",
   "pygments_lexer": "ipython3",
   "version": "3.8.0"
  }
 },
 "nbformat": 4,
 "nbformat_minor": 1
}
